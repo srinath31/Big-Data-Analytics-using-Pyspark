{
 "cells": [
  {
   "cell_type": "markdown",
   "metadata": {},
   "source": [
    "# IST 718 Big Data Analytics\n",
    "## Project Group 7- Rental Price Prediction"
   ]
  },
  {
   "cell_type": "markdown",
   "metadata": {},
   "source": [
    "## Group Members: \n",
    "## Srinath Ramachandran, Aarthe Jayaprakash, Mohit Gupta, Satyen Amonkar\n"
   ]
  },
  {
   "cell_type": "markdown",
   "metadata": {},
   "source": [
    "## Loading Packages"
   ]
  },
  {
   "cell_type": "code",
   "execution_count": 1,
   "metadata": {},
   "outputs": [],
   "source": [
    "# Load the packages needed for this part\n",
    "# create spark and sparkcontext objects\n",
    "from pyspark.sql import SparkSession\n",
    "import numpy as np\n",
    "import pyspark\n",
    "from pyspark.ml import feature, regression, Pipeline\n",
    "from pyspark.sql import functions as fn, Row\n",
    "from pyspark import sql\n",
    "import matplotlib.pyplot as plt\n",
    "import pandas as pd"
   ]
  },
  {
   "cell_type": "markdown",
   "metadata": {},
   "source": [
    "## Creating Spark Sessions "
   ]
  },
  {
   "cell_type": "code",
   "execution_count": 2,
   "metadata": {},
   "outputs": [],
   "source": [
    "spark = SparkSession.builder.getOrCreate()\n",
    "sc = spark.sparkContext"
   ]
  },
  {
   "cell_type": "markdown",
   "metadata": {},
   "source": [
    "## Loading data "
   ]
  },
  {
   "cell_type": "code",
   "execution_count": 3,
   "metadata": {},
   "outputs": [],
   "source": [
    "#The data is loaded into an rdd in an unstructured format\n",
    "#this is done so that the data can be of the correct format to be loaded into a PySpark Dataframe\n",
    "rdd = sc.textFile('inputFile.csv')\n",
    "df=spark.read.csv('inputFile.csv', inferSchema=True,header=True)"
   ]
  },
  {
   "cell_type": "markdown",
   "metadata": {},
   "source": [
    "## Initial Number of Columns "
   ]
  },
  {
   "cell_type": "code",
   "execution_count": 4,
   "metadata": {},
   "outputs": [
    {
     "data": {
      "text/plain": [
       "29"
      ]
     },
     "execution_count": 4,
     "metadata": {},
     "output_type": "execute_result"
    }
   ],
   "source": [
    "colnames= df.columns\n",
    "len(colnames)"
   ]
  },
  {
   "cell_type": "code",
   "execution_count": 5,
   "metadata": {},
   "outputs": [],
   "source": [
    "#The header is removed from the rdd\n",
    "tagsheader = rdd.first()\n",
    "header = sc.parallelize([tagsheader])\n",
    "data = rdd.subtract(header)"
   ]
  },
  {
   "cell_type": "markdown",
   "metadata": {},
   "source": [
    "## Function for cleaning Columns containing commas"
   ]
  },
  {
   "cell_type": "code",
   "execution_count": 6,
   "metadata": {},
   "outputs": [],
   "source": [
    "# PySpark has an option to ignore commas within quotes while reading a csv.\n",
    "# the amenities column has multiple commas and quotes within {} \n",
    "# This function replaces the extra quotes within {} in amenities with a blank \n",
    "\n",
    "def removequotes(line):\n",
    "    flag=0\n",
    "    line1=''\n",
    "    for x in line:\n",
    "        if flag==0:\n",
    "            if x=='\\{':\n",
    "                flag=1\n",
    "        else:\n",
    "            if x=='}':\n",
    "                flag=0\n",
    "            x=x.replace('\\\"','')\n",
    "        line1=line1+x\n",
    "    return line1\n"
   ]
  },
  {
   "cell_type": "code",
   "execution_count": 7,
   "metadata": {},
   "outputs": [],
   "source": [
    "# the removequotes function is applied to every entry in the rdd\n",
    "data=data.map(removequotes)\n"
   ]
  },
  {
   "cell_type": "code",
   "execution_count": 8,
   "metadata": {},
   "outputs": [],
   "source": [
    "# the modified data is stored in a csv\n",
    "data.saveAsTextFile('tempFile.csv')"
   ]
  },
  {
   "cell_type": "markdown",
   "metadata": {},
   "source": [
    "## Loading Data by ignoring commas inside quotes "
   ]
  },
  {
   "cell_type": "code",
   "execution_count": 9,
   "metadata": {},
   "outputs": [],
   "source": [
    "#the data is reloaded into a spark dataframe\n",
    "# quotes are defined as escape character\n",
    "df1=spark.read.option(\"quote\", \"\\\"\").option(\"escape\", \"\\\"\").csv(\"tempFile.csv\")"
   ]
  },
  {
   "cell_type": "code",
   "execution_count": 10,
   "metadata": {},
   "outputs": [],
   "source": [
    "new=df1.toDF(*colnames)"
   ]
  },
  {
   "cell_type": "markdown",
   "metadata": {},
   "source": [
    "## Handling Null Values"
   ]
  },
  {
   "cell_type": "code",
   "execution_count": 11,
   "metadata": {},
   "outputs": [],
   "source": [
    "new=new.na.drop()"
   ]
  },
  {
   "cell_type": "markdown",
   "metadata": {},
   "source": [
    "## Dropping non-essential columns"
   ]
  },
  {
   "cell_type": "code",
   "execution_count": 12,
   "metadata": {},
   "outputs": [],
   "source": [
    "#These columns either don't contribute value to the analysis or have too many null values. \n",
    "\n",
    "new=new.drop('description',\n",
    "           'first_review',\n",
    "            'host_has_profile_pic',\n",
    "            'name',\n",
    "            'thumbnail_url','zipcode','id','cleaning_fee'\n",
    "           'last_review',\n",
    "             'latitude',\n",
    "             'longitude')"
   ]
  },
  {
   "cell_type": "markdown",
   "metadata": {},
   "source": [
    "## Converting Host Response Rate from Percent to Decimal Value"
   ]
  },
  {
   "cell_type": "code",
   "execution_count": 13,
   "metadata": {},
   "outputs": [],
   "source": [
    "new = new.withColumn('host_response_rate',fn.regexp_replace('host_response_rate','%',''))\n",
    "new= new.withColumn('host_response_rate', (fn.col('host_response_rate').cast('float')))\n",
    "new = new.withColumn('host_response_rate',fn.col('host_response_rate')/100)"
   ]
  },
  {
   "cell_type": "markdown",
   "metadata": {},
   "source": [
    "## Converting Log price to Price"
   ]
  },
  {
   "cell_type": "code",
   "execution_count": 14,
   "metadata": {},
   "outputs": [],
   "source": [
    "# The inputFile contained log price, we converted it into price(USD) so that the rmse will be more interpretable.\n",
    "from pyspark.sql import functions as fn\n",
    "new = new.withColumn('price',fn.exp(fn.col('log_price')))\n"
   ]
  },
  {
   "cell_type": "markdown",
   "metadata": {},
   "source": [
    "## Rounding Price value"
   ]
  },
  {
   "cell_type": "code",
   "execution_count": 15,
   "metadata": {},
   "outputs": [],
   "source": [
    "new = new.withColumn('price',fn.round(fn.col('price')))"
   ]
  },
  {
   "cell_type": "markdown",
   "metadata": {},
   "source": [
    "## Changing to appropriate datatypes from String\n"
   ]
  },
  {
   "cell_type": "code",
   "execution_count": 16,
   "metadata": {},
   "outputs": [],
   "source": [
    "new= new.withColumn('accommodates', (fn.col('accommodates').cast('int')))\n",
    "new= new.withColumn('bathrooms', (fn.col('bathrooms').cast('int')))\n",
    "new= new.withColumn('cleaning_fee', (fn.col('cleaning_fee').cast('int')))\n",
    "new= new.withColumn('number_of_reviews', (fn.col('number_of_reviews').cast('int')))\n",
    "new= new.withColumn('review_scores_rating', (fn.col('review_scores_rating').cast('int')))\n",
    "new= new.withColumn('bedrooms', (fn.col('bedrooms').cast('int')))\n",
    "new= new.withColumn('beds', (fn.col('beds').cast('int')))"
   ]
  },
  {
   "cell_type": "code",
   "execution_count": 17,
   "metadata": {},
   "outputs": [],
   "source": [
    "pre_process_data = new.select('amenities','property_type','room_type','accommodates','bathrooms','bedrooms','cancellation_policy','host_identity_verified','number_of_reviews',\n",
    "                              'review_scores_rating','beds','cleaning_fee','host_response_rate','instant_bookable','host_since','city','price')"
   ]
  },
  {
   "cell_type": "markdown",
   "metadata": {},
   "source": [
    "## Convert Host Response Rate to Decimal\n"
   ]
  },
  {
   "cell_type": "code",
   "execution_count": 18,
   "metadata": {},
   "outputs": [],
   "source": [
    "\n",
    "pre_process_data = pre_process_data.withColumn('host_response_rate',fn.regexp_replace('host_response_rate','%',''))\n",
    "pre_process_data= pre_process_data.withColumn('host_response_rate', (fn.col('host_response_rate').cast('float')))\n",
    "pre_process_data = pre_process_data.withColumn('host_response_rate',fn.col('host_response_rate')/100)"
   ]
  },
  {
   "cell_type": "markdown",
   "metadata": {},
   "source": [
    "## Feature Engineering"
   ]
  },
  {
   "cell_type": "code",
   "execution_count": 19,
   "metadata": {},
   "outputs": [],
   "source": [
    "# Converted Property type, Room type and Cancellation Policy into dummy variables. \n",
    "\n",
    "pre_process_data=pre_process_data.withColumn('Apartment', (fn.col('property_type')=='Apartment').cast('int')).\\\n",
    "withColumn('House', (fn.col('property_type')=='House').cast('int')).\\\n",
    "withColumn('Condominium', (fn.col('property_type')=='Condominium').cast('int')).\\\n",
    "withColumn('Loft', (fn.col('property_type')=='Loft').cast('int')).\\\n",
    "withColumn('Townhouse', (fn.col('property_type')=='Townhouse').cast('int')).\\\n",
    "withColumn('Entire_home_apt', (fn.col('room_type')=='Entire home/apt').cast('int')).\\\n",
    "withColumn('Private_room', (fn.col('room_type')=='Private room').cast('int')).\\\n",
    "withColumn('NYC', (fn.col('city')=='NYC').cast('int')).\\\n",
    "withColumn('LA', (fn.col('city')=='LA').cast('int')).\\\n",
    "withColumn('Chicago', (fn.col('city')=='Chicago').cast('int')).\\\n",
    "withColumn('Boston', (fn.col('city')=='Boston').cast('int')).\\\n",
    "withColumn('SF', (fn.col('city')=='SF').cast('int')).\\\n",
    "withColumn('DC', (fn.col('city')=='DC').cast('int')).\\\n",
    "withColumn('Shared_room', (fn.col('city')=='Shared room').cast('int')).\\\n",
    "withColumn('flexible', (fn.col('cancellation_policy')=='flexible').cast('int')).\\\n",
    "withColumn('moderate', (fn.col('cancellation_policy')=='moderate').cast('int')).\\\n",
    "withColumn('strict', (fn.col('cancellation_policy')=='strict').cast('int'))\n"
   ]
  },
  {
   "cell_type": "markdown",
   "metadata": {},
   "source": [
    "### Handling Column: Days since Host "
   ]
  },
  {
   "cell_type": "code",
   "execution_count": 20,
   "metadata": {},
   "outputs": [],
   "source": [
    "#Converted date to days.\n",
    "\n",
    "pre_process_data=pre_process_data.withColumn(\"host_since_days\",  fn.datediff(fn.current_date(), fn.col(\"host_since\")))"
   ]
  },
  {
   "cell_type": "markdown",
   "metadata": {},
   "source": [
    "### Handling Column: Amenities"
   ]
  },
  {
   "cell_type": "code",
   "execution_count": 21,
   "metadata": {},
   "outputs": [],
   "source": [
    "amens =  ['24-hour check-in','Air conditioning','Buzzer/wireless intercom',\n",
    " 'Cable TV','Carbon monoxide detector','Family/kid friendly','Fire extinguisher','First aid kit','Free parking on premises','Hair dryer',\n",
    "'Indoor fireplace','Laptop friendly workspace','Lock on bedroom door','Pets allowed','Pets live on this property','Private entrance',\n",
    " 'Safety card', 'Self Check-In','Smoke detector','Wireless Internet']\n",
    "\n",
    "for column in amens:\n",
    "    pre_process_data= pre_process_data.withColumn(column,fn.col(\"amenities\").rlike(column))\n",
    "    pre_process_data= pre_process_data.withColumn(column,fn.col(column).cast('int'))\n",
    "    "
   ]
  },
  {
   "cell_type": "markdown",
   "metadata": {},
   "source": [
    "### Converting Boolean Values into Integer, for Instant_bookable and host_identity verified"
   ]
  },
  {
   "cell_type": "code",
   "execution_count": 22,
   "metadata": {},
   "outputs": [],
   "source": [
    "pre_process_data = pre_process_data.withColumn('instant_bookable',fn.regexp_replace('instant_bookable','t','1'))\n",
    "pre_process_data = pre_process_data.withColumn('instant_bookable',fn.regexp_replace('instant_bookable','f','0'))\n",
    "pre_process_data= pre_process_data.withColumn('instant_bookable', (fn.col('instant_bookable').cast('int')))"
   ]
  },
  {
   "cell_type": "code",
   "execution_count": 23,
   "metadata": {},
   "outputs": [],
   "source": [
    "pre_process_data = pre_process_data.withColumn('host_identity_verified',fn.regexp_replace('host_identity_verified','t','1'))\n",
    "pre_process_data = pre_process_data.withColumn('host_identity_verified',fn.regexp_replace('host_identity_verified','f','0'))\n",
    "pre_process_data= pre_process_data.withColumn('host_identity_verified', (fn.col('host_identity_verified').cast('int')))\n",
    "pre_process_data= pre_process_data.withColumn('host_identity_verified', (fn.col('host_identity_verified').cast('int')))\n",
    "pre_process_data= pre_process_data.withColumn('host_identity_verified', (fn.col('host_identity_verified').cast('int')))"
   ]
  },
  {
   "cell_type": "markdown",
   "metadata": {},
   "source": [
    "## Removing columns after Feature Engineering"
   ]
  },
  {
   "cell_type": "code",
   "execution_count": 24,
   "metadata": {},
   "outputs": [],
   "source": [
    "pre_process_data= pre_process_data.drop('host_response_rate','amenities','property_type','room_type','cancellation_policy','city','log_price','host_since')"
   ]
  },
  {
   "cell_type": "markdown",
   "metadata": {},
   "source": [
    "## Exploratory Data Analysis \n",
    "The frequency distribution of the data in each city and the distrubution of prices of vacation rentals are depicted below."
   ]
  },
  {
   "cell_type": "code",
   "execution_count": 25,
   "metadata": {},
   "outputs": [],
   "source": [
    "sf= pre_process_data.select(fn.sum('SF')).collect()\n",
    "nyc= pre_process_data.select(fn.sum('NYC')).collect()\n",
    "la=  pre_process_data.select(fn.sum('LA')).collect()\n",
    "boston= pre_process_data.select(fn.sum('Boston')).collect()\n",
    "dc= pre_process_data.select(fn.sum('DC')).collect()\n",
    "chicago= pre_process_data.select(fn.sum('Chicago')).collect()\n"
   ]
  },
  {
   "cell_type": "code",
   "execution_count": 26,
   "metadata": {},
   "outputs": [],
   "source": [
    "from pyspark.sql import Row\n",
    "from pyspark.sql import SQLContext\n",
    "l = [('SF',sf[0][0]),('NYC',nyc[0][0]),('LA',la[0][0]),('Boston',boston[0][0]),('DC',dc[0][0]),('Chicago',chicago[0][0])]\n",
    "rdd = sc.parallelize(l)\n",
    "city_tally = rdd.map(lambda x: Row(City=x[0], Count=int(x[1])))\n"
   ]
  },
  {
   "cell_type": "code",
   "execution_count": 27,
   "metadata": {},
   "outputs": [],
   "source": [
    "city_count=city_tally.toDF()\n",
    "city_count=city_count.toPandas()"
   ]
  },
  {
   "cell_type": "code",
   "execution_count": 28,
   "metadata": {
    "scrolled": true
   },
   "outputs": [
    {
     "data": {
      "image/png": "[encoded data removed]",
      "text/plain": [
       "<Figure size 432x288 with 1 Axes>"
      ]
     },
     "metadata": {
      "needs_background": "light"
     },
     "output_type": "display_data"
    }
   ],
   "source": [
    "\n",
    "import matplotlib.pyplot as plt\n",
    "import seaborn as sns\n",
    "\n",
    "sns.barplot(x='City',y='Count',data=city_count)\n",
    "plt.show()"
   ]
  },
  {
   "cell_type": "code",
   "execution_count": 29,
   "metadata": {},
   "outputs": [],
   "source": [
    "# We found that most of the listings are NYC and LA"
   ]
  },
  {
   "cell_type": "code",
   "execution_count": 30,
   "metadata": {},
   "outputs": [
    {
     "name": "stdout",
     "output_type": "stream",
     "text": [
      "+-------+------------------+\n",
      "|summary|             price|\n",
      "+-------+------------------+\n",
      "|  count|             38500|\n",
      "|   mean|146.11901298701298|\n",
      "| stddev| 130.8205562603637|\n",
      "|    min|               1.0|\n",
      "|    25%|              74.0|\n",
      "|    50%|             110.0|\n",
      "|    75%|             175.0|\n",
      "|    max|            1999.0|\n",
      "+-------+------------------+\n",
      "\n"
     ]
    }
   ],
   "source": [
    "pre_process_data.select('price').summary().show()"
   ]
  },
  {
   "cell_type": "code",
   "execution_count": 31,
   "metadata": {},
   "outputs": [],
   "source": [
    "#The data is right-skewed"
   ]
  },
  {
   "cell_type": "code",
   "execution_count": 32,
   "metadata": {},
   "outputs": [],
   "source": [
    "price=pre_process_data.select('price').collect()\n",
    "pricelist = [int(row.price) for row in price]"
   ]
  },
  {
   "cell_type": "code",
   "execution_count": 33,
   "metadata": {},
   "outputs": [
    {
     "data": {
      "image/png": "[encoded data removed]",
      "text/plain": [
       "<Figure size 432x288 with 1 Axes>"
      ]
     },
     "metadata": {
      "needs_background": "light"
     },
     "output_type": "display_data"
    }
   ],
   "source": [
    "sns.boxplot(pricelist)\n",
    "plt.show()"
   ]
  },
  {
   "cell_type": "code",
   "execution_count": 34,
   "metadata": {},
   "outputs": [],
   "source": [
    "# The outliers are removed"
   ]
  },
  {
   "cell_type": "code",
   "execution_count": 35,
   "metadata": {},
   "outputs": [],
   "source": [
    "pre_process_data=pre_process_data.filter(fn.col('price')<175)"
   ]
  },
  {
   "cell_type": "markdown",
   "metadata": {},
   "source": [
    "## Splitting Pre-Processed data into Train, Validation And Test"
   ]
  },
  {
   "cell_type": "markdown",
   "metadata": {},
   "source": [
    "### Splitting data into 60%(Training) 30%(Validation) and 10% (Test)"
   ]
  },
  {
   "cell_type": "code",
   "execution_count": 36,
   "metadata": {},
   "outputs": [
    {
     "name": "stdout",
     "output_type": "stream",
     "text": [
      "17100\n",
      "8528\n",
      "2928\n"
     ]
    }
   ],
   "source": [
    "splits=pre_process_data.randomSplit([0.6,0.3,0.1])\n",
    "train=splits[0]\n",
    "validation=splits[1]\n",
    "test=splits[2]\n",
    "print(train.count())\n",
    "print(validation.count())\n",
    "print(test.count())"
   ]
  },
  {
   "cell_type": "code",
   "execution_count": 37,
   "metadata": {},
   "outputs": [],
   "source": [
    "\n",
    "inputf = ['accommodates','bathrooms','bedrooms','host_identity_verified','number_of_reviews','review_scores_rating',\n",
    "                                      'beds','instant_bookable','Apartment','House','Condominium','Loft',\n",
    "                                      'Townhouse','Entire_home_apt','Private_room','NYC','LA','Chicago','Boston','SF','DC','Shared_room','flexible',\n",
    "                                      'moderate','strict','host_since_days','24-hour check-in','Air conditioning','Buzzer/wireless intercom','Cable TV',\n",
    "                                      'Carbon monoxide detector','Family/kid friendly','Fire extinguisher','First aid kit','Free parking on premises',\n",
    "                                      'Hair dryer','Indoor fireplace','Laptop friendly workspace','Lock on bedroom door','Pets allowed','Pets live on this property',\n",
    "                                      'Private entrance','Safety card','Self Check-In','Smoke detector','Wireless Internet']"
   ]
  },
  {
   "cell_type": "markdown",
   "metadata": {},
   "source": [
    "## Vector Assembler"
   ]
  },
  {
   "cell_type": "code",
   "execution_count": 38,
   "metadata": {},
   "outputs": [],
   "source": [
    "## Definig Vector Assembler\n",
    "from pyspark.ml.feature import VectorAssembler\n",
    "va= VectorAssembler(inputCols=inputf, outputCol='features')"
   ]
  },
  {
   "cell_type": "markdown",
   "metadata": {},
   "source": [
    "## Standard Scaler"
   ]
  },
  {
   "cell_type": "code",
   "execution_count": 39,
   "metadata": {},
   "outputs": [],
   "source": [
    "## Defining Standard Scaler\n",
    "from pyspark.ml.feature import StandardScaler\n",
    "ss=StandardScaler(inputCol='features',outputCol='scaled_features', withStd=True, withMean=False)"
   ]
  },
  {
   "cell_type": "markdown",
   "metadata": {},
   "source": [
    "## Modelling"
   ]
  },
  {
   "cell_type": "markdown",
   "metadata": {},
   "source": [
    "### Defining Evaluators"
   ]
  },
  {
   "cell_type": "code",
   "execution_count": 40,
   "metadata": {},
   "outputs": [],
   "source": [
    "#Defining evaluators for rmse,mae and R2.\n",
    "from pyspark.ml import feature, regression, evaluation, Pipeline\n",
    "evaluator1 = evaluation.RegressionEvaluator(labelCol='price', metricName='rmse')\n",
    "evaluator2 = evaluation.RegressionEvaluator(labelCol='price', metricName='mae')\n",
    "evaluator3 = evaluation.RegressionEvaluator(labelCol='price', metricName='r2')\n"
   ]
  },
  {
   "cell_type": "markdown",
   "metadata": {},
   "source": [
    "##  1. Linear Regression"
   ]
  },
  {
   "cell_type": "code",
   "execution_count": 41,
   "metadata": {},
   "outputs": [],
   "source": [
    "## Defining Linear Regression Model\n",
    "from pyspark.ml.regression import LinearRegression\n",
    "lrmodel = LinearRegression(featuresCol='scaled_features',labelCol='price')"
   ]
  },
  {
   "cell_type": "code",
   "execution_count": 42,
   "metadata": {},
   "outputs": [],
   "source": [
    "## Creating a pipeline for Linear Regression pipeline\n",
    "pipe_model_lr = Pipeline(stages=[va,ss,lrmodel])"
   ]
  },
  {
   "cell_type": "code",
   "execution_count": 43,
   "metadata": {},
   "outputs": [],
   "source": [
    "## Training model with linear regression pipeline\n",
    "lrmodel=pipe_model_lr.fit(train)"
   ]
  },
  {
   "cell_type": "code",
   "execution_count": 44,
   "metadata": {},
   "outputs": [
    {
     "name": "stdout",
     "output_type": "stream",
     "text": [
      "+----------+-----+\n",
      "|prediction|price|\n",
      "+----------+-----+\n",
      "|      60.0| 35.0|\n",
      "|      63.0|125.0|\n",
      "|      54.0| 29.0|\n",
      "|      67.0| 35.0|\n",
      "|      57.0| 60.0|\n",
      "+----------+-----+\n",
      "only showing top 5 rows\n",
      "\n",
      "The RMSE score for Linear Regression is :  27.020632187087493\n"
     ]
    }
   ],
   "source": [
    "## predicting using the trained model\n",
    "prediction_lr=lrmodel.transform(validation)\n",
    "prediction_lr = prediction_lr.withColumn('prediction',fn.round(fn.col('prediction')))\n",
    "prediction_lr.select(\"prediction\",\"price\").show(5)\n",
    "\n",
    "## Calculating the RMSE score for the predictions\n",
    "print(\"The RMSE score for Linear Regression is : \",evaluator1.evaluate(prediction_lr))\n",
    "#.select('log_price','prediction').show(1)\n",
    "\n"
   ]
  },
  {
   "cell_type": "markdown",
   "metadata": {},
   "source": [
    "### Elastic Net Regression"
   ]
  },
  {
   "cell_type": "code",
   "execution_count": 45,
   "metadata": {},
   "outputs": [],
   "source": [
    "## Creating Elastic Net Regression pipeline\n",
    "pipe_model_enr1 = Pipeline(stages=[\n",
    "   va,ss, \n",
    "   # regression.LinearRegression(featuresCol='zfeatures',labelCol='log_price')\n",
    "     regression.LinearRegression(featuresCol='scaled_features',labelCol='price').setRegParam(0).setMaxIter(10).setElasticNetParam(0.3)\n",
    "])\n",
    "\n",
    "## Training with elastic net regression pipeline \n",
    "enr_model1=pipe_model_enr1.fit(train)"
   ]
  },
  {
   "cell_type": "code",
   "execution_count": 46,
   "metadata": {},
   "outputs": [
    {
     "name": "stdout",
     "output_type": "stream",
     "text": [
      "+----------+-----+\n",
      "|prediction|price|\n",
      "+----------+-----+\n",
      "|      58.0| 35.0|\n",
      "|      62.0|125.0|\n",
      "|      53.0| 29.0|\n",
      "|      66.0| 35.0|\n",
      "|      56.0| 60.0|\n",
      "+----------+-----+\n",
      "only showing top 5 rows\n",
      "\n",
      "The Rmse Score using Elastic Net Regression is : 27.058231018558082\n"
     ]
    }
   ],
   "source": [
    "## Predicting using the trained Elastic Net Regression model\n",
    "predictions_enr = enr_model1.transform(validation)\n",
    "predictions_enr = predictions_enr.withColumn('prediction',fn.round(fn.col('prediction')))\n",
    "predictions_enr.select(\"prediction\",\"price\").show(5)\n",
    "## RMSE score for elastic net regression\n",
    "print(\"The Rmse Score using Elastic Net Regression is :\",evaluator1.evaluate(predictions_enr))"
   ]
  },
  {
   "cell_type": "code",
   "execution_count": 47,
   "metadata": {},
   "outputs": [],
   "source": [
    "## Creating Elastic Net Regression pipeline\n",
    "pipe_model_enr2 = Pipeline(stages=[\n",
    "   va,ss, \n",
    "   # regression.LinearRegression(featuresCol='zfeatures',labelCol='log_price')\n",
    "     regression.LinearRegression(featuresCol='scaled_features',labelCol='price').setRegParam(0.1).setMaxIter(10).setElasticNetParam(0.7)\n",
    "])\n",
    "\n",
    "## Training with elastic net regression pipeline \n",
    "enr_model2=pipe_model_enr2.fit(train)"
   ]
  },
  {
   "cell_type": "code",
   "execution_count": 48,
   "metadata": {},
   "outputs": [
    {
     "name": "stdout",
     "output_type": "stream",
     "text": [
      "+----------+-----+\n",
      "|prediction|price|\n",
      "+----------+-----+\n",
      "|      57.0| 35.0|\n",
      "|      59.0|125.0|\n",
      "|      52.0| 29.0|\n",
      "|      64.0| 35.0|\n",
      "|      55.0| 60.0|\n",
      "+----------+-----+\n",
      "only showing top 5 rows\n",
      "\n",
      "The Rmse Score using Elastic Net Regression is : 27.22284651575332\n"
     ]
    }
   ],
   "source": [
    "## Predicting using the trained Elastic Net Regression model\n",
    "predictions_enr = enr_model2.transform(validation)\n",
    "predictions_enr = predictions_enr.withColumn('prediction',fn.round(fn.col('prediction')))\n",
    "predictions_enr.select(\"prediction\",\"price\").show(5)\n",
    "## RMSE score for elastic net regression\n",
    "print(\"The Rmse Score using Elastic Net Regression is :\",evaluator1.evaluate(predictions_enr))"
   ]
  },
  {
   "cell_type": "markdown",
   "metadata": {},
   "source": [
    "## 2. Random Forest Regressor"
   ]
  },
  {
   "cell_type": "markdown",
   "metadata": {},
   "source": [
    "### Random Forest Regressor with 50 Trees and max depth of 10"
   ]
  },
  {
   "cell_type": "code",
   "execution_count": 49,
   "metadata": {},
   "outputs": [],
   "source": [
    "rf_1 = regression.RandomForestRegressor(numTrees=50,featureSubsetStrategy='auto',labelCol='price',featuresCol='features',maxDepth=10,seed=435) "
   ]
  },
  {
   "cell_type": "code",
   "execution_count": 50,
   "metadata": {},
   "outputs": [],
   "source": [
    "## Creating a pipeline with Vector Assembler ,Standard Scalar and Random Forest\n",
    "piperf = Pipeline(stages=[va,ss,rf_1])\n",
    "\n",
    "## Defining Regression Evaluator\n",
    "from pyspark.ml import feature, regression, evaluation, Pipeline\n",
    "evaluator1 = evaluation.RegressionEvaluator(labelCol='price', metricName='rmse')"
   ]
  },
  {
   "cell_type": "code",
   "execution_count": 51,
   "metadata": {},
   "outputs": [],
   "source": [
    "## Training With the defined pipeline\n",
    "model_rf1 = piperf.fit(train)\n",
    "\n",
    "### Predicting using the trained model\n",
    "predictions_rf = model_rf1.transform(validation)\n",
    "predictions_rf = predictions_rf.withColumn('prediction',fn.round(fn.col('prediction')))"
   ]
  },
  {
   "cell_type": "code",
   "execution_count": 52,
   "metadata": {},
   "outputs": [
    {
     "name": "stdout",
     "output_type": "stream",
     "text": [
      "+----------+-----+--------------------+\n",
      "|prediction|price|            features|\n",
      "+----------+-----+--------------------+\n",
      "|      54.0| 35.0|(46,[0,2,4,5,6,14...|\n",
      "|      61.0|125.0|(46,[0,2,4,5,6,9,...|\n",
      "|      59.0| 29.0|(46,[0,2,3,4,5,6,...|\n",
      "|      56.0| 35.0|(46,[0,2,3,4,5,6,...|\n",
      "|      54.0| 60.0|(46,[0,2,3,4,5,6,...|\n",
      "|      53.0| 49.0|(46,[0,2,3,4,5,6,...|\n",
      "|      66.0| 50.0|(46,[0,2,3,4,5,6,...|\n",
      "|      67.0| 75.0|(46,[0,1,4,5,6,8,...|\n",
      "|      60.0| 53.0|(46,[0,1,4,5,6,7,...|\n",
      "|     100.0| 95.0|(46,[0,1,4,5,6,8,...|\n",
      "+----------+-----+--------------------+\n",
      "only showing top 10 rows\n",
      "\n",
      "The RMSE Score using Random Forest Regressor is  26.666590691339554\n"
     ]
    }
   ],
   "source": [
    "## Calculating RMSE score \n",
    "predictions_rf.select(fn.round(fn.col(\"prediction\")).alias('prediction'), \"price\", \"features\").show(10)\n",
    "print(\"The RMSE Score using Random Forest Regressor is \",evaluator1.evaluate(predictions_rf))"
   ]
  },
  {
   "cell_type": "markdown",
   "metadata": {},
   "source": [
    "### Random Forest Regressor with 100  Trees "
   ]
  },
  {
   "cell_type": "code",
   "execution_count": 53,
   "metadata": {},
   "outputs": [],
   "source": [
    "rf_2 = regression.RandomForestRegressor(numTrees=100,featureSubsetStrategy='auto',labelCol='price',featuresCol='features',seed=435)"
   ]
  },
  {
   "cell_type": "code",
   "execution_count": 54,
   "metadata": {},
   "outputs": [],
   "source": [
    "## Creating a pipeline with Vector Assembler ,Standard Scalar and Random Forest\n",
    "piperf = Pipeline(stages=[va,ss,rf_2])\n",
    "\n",
    "## Defining Regression Evaluator\n",
    "from pyspark.ml import feature, regression, evaluation, Pipeline\n",
    "evaluator1 = evaluation.RegressionEvaluator(labelCol='price', metricName='rmse')"
   ]
  },
  {
   "cell_type": "code",
   "execution_count": 55,
   "metadata": {},
   "outputs": [],
   "source": [
    "## Training With the defined pipeline\n",
    "model_rf2 = piperf.fit(train)\n",
    "\n",
    "### Predicting using the trained model\n",
    "predictions_rf = model_rf2.transform(validation)\n",
    "predictions_rf = predictions_rf.withColumn('prediction',fn.round(fn.col('prediction')))"
   ]
  },
  {
   "cell_type": "code",
   "execution_count": 56,
   "metadata": {},
   "outputs": [
    {
     "name": "stdout",
     "output_type": "stream",
     "text": [
      "+----------+-----+--------------------+\n",
      "|prediction|price|            features|\n",
      "+----------+-----+--------------------+\n",
      "|      67.0| 35.0|(46,[0,2,4,5,6,14...|\n",
      "|      65.0|125.0|(46,[0,2,4,5,6,9,...|\n",
      "|      64.0| 29.0|(46,[0,2,3,4,5,6,...|\n",
      "|      66.0| 35.0|(46,[0,2,3,4,5,6,...|\n",
      "|      65.0| 60.0|(46,[0,2,3,4,5,6,...|\n",
      "|      62.0| 49.0|(46,[0,2,3,4,5,6,...|\n",
      "|      68.0| 50.0|(46,[0,2,3,4,5,6,...|\n",
      "|      68.0| 75.0|(46,[0,1,4,5,6,8,...|\n",
      "|      66.0| 53.0|(46,[0,1,4,5,6,7,...|\n",
      "|     109.0| 95.0|(46,[0,1,4,5,6,8,...|\n",
      "+----------+-----+--------------------+\n",
      "only showing top 10 rows\n",
      "\n",
      "The RMSE Score using Random Forest Regressor is  27.698107422425817\n"
     ]
    }
   ],
   "source": [
    "## Calculating RMSE score \n",
    "predictions_rf.select(fn.round(fn.col(\"prediction\")).alias('prediction'), \"price\", \"features\").show(10)\n",
    "print(\"The RMSE Score using Random Forest Regressor is \",evaluator1.evaluate(predictions_rf))"
   ]
  },
  {
   "cell_type": "markdown",
   "metadata": {},
   "source": [
    "### Random Forest Regressor with 100  Trees and max depth of 10 "
   ]
  },
  {
   "cell_type": "code",
   "execution_count": 57,
   "metadata": {},
   "outputs": [],
   "source": [
    "rf_3 = regression.RandomForestRegressor(numTrees=100,featureSubsetStrategy='auto',labelCol='price',featuresCol='features',maxDepth=10,seed=435)"
   ]
  },
  {
   "cell_type": "code",
   "execution_count": 58,
   "metadata": {},
   "outputs": [],
   "source": [
    "## Creating a pipeline with Vector Assembler ,Standard Scalar and Random Forest\n",
    "piperf = Pipeline(stages=[va,ss,rf_3])\n",
    "\n",
    "## Defining Regression Evaluator\n",
    "from pyspark.ml import feature, regression, evaluation, Pipeline\n",
    "evaluator1 = evaluation.RegressionEvaluator(labelCol='price', metricName='rmse')"
   ]
  },
  {
   "cell_type": "code",
   "execution_count": 59,
   "metadata": {},
   "outputs": [],
   "source": [
    "## Training With the defined pipeline\n",
    "model_rf3 = piperf.fit(train)\n",
    "\n",
    "### Predicting using the trained model\n",
    "predictions_rf = model_rf3.transform(validation)\n",
    "predictions_rf = predictions_rf.withColumn('prediction',fn.round(fn.col('prediction')))"
   ]
  },
  {
   "cell_type": "code",
   "execution_count": 60,
   "metadata": {},
   "outputs": [
    {
     "name": "stdout",
     "output_type": "stream",
     "text": [
      "+----------+-----+--------------------+\n",
      "|prediction|price|            features|\n",
      "+----------+-----+--------------------+\n",
      "|      54.0| 35.0|(46,[0,2,4,5,6,14...|\n",
      "|      56.0|125.0|(46,[0,2,4,5,6,9,...|\n",
      "|      55.0| 29.0|(46,[0,2,3,4,5,6,...|\n",
      "|      59.0| 35.0|(46,[0,2,3,4,5,6,...|\n",
      "|      56.0| 60.0|(46,[0,2,3,4,5,6,...|\n",
      "|      50.0| 49.0|(46,[0,2,3,4,5,6,...|\n",
      "|      68.0| 50.0|(46,[0,2,3,4,5,6,...|\n",
      "|      64.0| 75.0|(46,[0,1,4,5,6,8,...|\n",
      "|      60.0| 53.0|(46,[0,1,4,5,6,7,...|\n",
      "|     102.0| 95.0|(46,[0,1,4,5,6,8,...|\n",
      "+----------+-----+--------------------+\n",
      "only showing top 10 rows\n",
      "\n",
      "The RMSE Score using Random Forest Regressor is  26.624160443562868\n"
     ]
    }
   ],
   "source": [
    "## Calculating RMSE score \n",
    "predictions_rf.select(fn.round(fn.col(\"prediction\")).alias('prediction'), \"price\", \"features\").show(10)\n",
    "print(\"The RMSE Score using Random Forest Regressor is \",evaluator1.evaluate(predictions_rf))"
   ]
  },
  {
   "cell_type": "markdown",
   "metadata": {},
   "source": [
    "### Random Forest with 600 trees"
   ]
  },
  {
   "cell_type": "code",
   "execution_count": 61,
   "metadata": {},
   "outputs": [],
   "source": [
    "## Creating a RandomForest Regressor with 600 trees\n",
    "rf_4 = regression.RandomForestRegressor(numTrees=600,featureSubsetStrategy='auto',labelCol='price',featuresCol='features',seed=435)"
   ]
  },
  {
   "cell_type": "code",
   "execution_count": 62,
   "metadata": {},
   "outputs": [],
   "source": [
    "## Creating a pipeline with Vector Assembler ,Standard Scalar and Random Forest\n",
    "piperf = Pipeline(stages=[va,ss,rf_4])"
   ]
  },
  {
   "cell_type": "code",
   "execution_count": 63,
   "metadata": {},
   "outputs": [],
   "source": [
    "## Defining Regression Evaluator\n",
    "from pyspark.ml import feature, regression, evaluation, Pipeline\n",
    "evaluator1 = evaluation.RegressionEvaluator(labelCol='price', metricName='rmse')"
   ]
  },
  {
   "cell_type": "code",
   "execution_count": 64,
   "metadata": {},
   "outputs": [],
   "source": [
    "## Training With the defined pipeline\n",
    "model_rf4 = piperf.fit(train)"
   ]
  },
  {
   "cell_type": "code",
   "execution_count": 65,
   "metadata": {},
   "outputs": [],
   "source": [
    "### Predicting using the trained model\n",
    "predictions_rf = model_rf4.transform(validation)\n",
    "predictions_rf = predictions_rf.withColumn('prediction',fn.round(fn.col('prediction')))"
   ]
  },
  {
   "cell_type": "code",
   "execution_count": 66,
   "metadata": {},
   "outputs": [
    {
     "name": "stdout",
     "output_type": "stream",
     "text": [
      "+----------+-----+--------------------+\n",
      "|prediction|price|            features|\n",
      "+----------+-----+--------------------+\n",
      "|      67.0| 35.0|(46,[0,2,4,5,6,14...|\n",
      "|      65.0|125.0|(46,[0,2,4,5,6,9,...|\n",
      "|      63.0| 29.0|(46,[0,2,3,4,5,6,...|\n",
      "|      66.0| 35.0|(46,[0,2,3,4,5,6,...|\n",
      "|      64.0| 60.0|(46,[0,2,3,4,5,6,...|\n",
      "|      62.0| 49.0|(46,[0,2,3,4,5,6,...|\n",
      "|      67.0| 50.0|(46,[0,2,3,4,5,6,...|\n",
      "|      68.0| 75.0|(46,[0,1,4,5,6,8,...|\n",
      "|      65.0| 53.0|(46,[0,1,4,5,6,7,...|\n",
      "|     109.0| 95.0|(46,[0,1,4,5,6,8,...|\n",
      "+----------+-----+--------------------+\n",
      "only showing top 10 rows\n",
      "\n",
      "The RMSE Score using Random Forest Regressor is  27.69844186933162\n"
     ]
    }
   ],
   "source": [
    "## Calculating RMSE score \n",
    "predictions_rf.select(fn.round(fn.col(\"prediction\")).alias('prediction'), \"price\", \"features\").show(10)\n",
    "print(\"The RMSE Score using Random Forest Regressor is \",evaluator1.evaluate(predictions_rf))"
   ]
  },
  {
   "cell_type": "markdown",
   "metadata": {},
   "source": [
    "## Feature importance of the best RF model"
   ]
  },
  {
   "cell_type": "code",
   "execution_count": 69,
   "metadata": {},
   "outputs": [
    {
     "data": {
      "text/html": [
       "<div>\n",
       "<style scoped>\n",
       "    .dataframe tbody tr th:only-of-type {\n",
       "        vertical-align: middle;\n",
       "    }\n",
       "\n",
       "    .dataframe tbody tr th {\n",
       "        vertical-align: top;\n",
       "    }\n",
       "\n",
       "    .dataframe thead th {\n",
       "        text-align: right;\n",
       "    }\n",
       "</style>\n",
       "<table border=\"1\" class=\"dataframe\">\n",
       "  <thead>\n",
       "    <tr style=\"text-align: right;\">\n",
       "      <th></th>\n",
       "      <th>values</th>\n",
       "      <th>features</th>\n",
       "    </tr>\n",
       "  </thead>\n",
       "  <tbody>\n",
       "    <tr>\n",
       "      <th>13</th>\n",
       "      <td>0.426492</td>\n",
       "      <td>Entire_home_apt</td>\n",
       "    </tr>\n",
       "    <tr>\n",
       "      <th>14</th>\n",
       "      <td>0.142525</td>\n",
       "      <td>Private_room</td>\n",
       "    </tr>\n",
       "    <tr>\n",
       "      <th>0</th>\n",
       "      <td>0.065311</td>\n",
       "      <td>accommodates</td>\n",
       "    </tr>\n",
       "    <tr>\n",
       "      <th>19</th>\n",
       "      <td>0.058289</td>\n",
       "      <td>SF</td>\n",
       "    </tr>\n",
       "    <tr>\n",
       "      <th>2</th>\n",
       "      <td>0.038216</td>\n",
       "      <td>bedrooms</td>\n",
       "    </tr>\n",
       "    <tr>\n",
       "      <th>25</th>\n",
       "      <td>0.030004</td>\n",
       "      <td>host_since_days</td>\n",
       "    </tr>\n",
       "    <tr>\n",
       "      <th>6</th>\n",
       "      <td>0.025044</td>\n",
       "      <td>beds</td>\n",
       "    </tr>\n",
       "    <tr>\n",
       "      <th>5</th>\n",
       "      <td>0.023904</td>\n",
       "      <td>review_scores_rating</td>\n",
       "    </tr>\n",
       "    <tr>\n",
       "      <th>4</th>\n",
       "      <td>0.019374</td>\n",
       "      <td>number_of_reviews</td>\n",
       "    </tr>\n",
       "    <tr>\n",
       "      <th>29</th>\n",
       "      <td>0.016131</td>\n",
       "      <td>Cable TV</td>\n",
       "    </tr>\n",
       "    <tr>\n",
       "      <th>17</th>\n",
       "      <td>0.013829</td>\n",
       "      <td>Chicago</td>\n",
       "    </tr>\n",
       "    <tr>\n",
       "      <th>31</th>\n",
       "      <td>0.009802</td>\n",
       "      <td>Family/kid friendly</td>\n",
       "    </tr>\n",
       "    <tr>\n",
       "      <th>9</th>\n",
       "      <td>0.009763</td>\n",
       "      <td>House</td>\n",
       "    </tr>\n",
       "    <tr>\n",
       "      <th>16</th>\n",
       "      <td>0.009104</td>\n",
       "      <td>LA</td>\n",
       "    </tr>\n",
       "    <tr>\n",
       "      <th>1</th>\n",
       "      <td>0.007966</td>\n",
       "      <td>bathrooms</td>\n",
       "    </tr>\n",
       "    <tr>\n",
       "      <th>27</th>\n",
       "      <td>0.007671</td>\n",
       "      <td>Air conditioning</td>\n",
       "    </tr>\n",
       "    <tr>\n",
       "      <th>28</th>\n",
       "      <td>0.007429</td>\n",
       "      <td>Buzzer/wireless intercom</td>\n",
       "    </tr>\n",
       "    <tr>\n",
       "      <th>15</th>\n",
       "      <td>0.007252</td>\n",
       "      <td>NYC</td>\n",
       "    </tr>\n",
       "    <tr>\n",
       "      <th>34</th>\n",
       "      <td>0.006502</td>\n",
       "      <td>Free parking on premises</td>\n",
       "    </tr>\n",
       "    <tr>\n",
       "      <th>18</th>\n",
       "      <td>0.005064</td>\n",
       "      <td>Boston</td>\n",
       "    </tr>\n",
       "  </tbody>\n",
       "</table>\n",
       "</div>"
      ],
      "text/plain": [
       "      values                  features\n",
       "13  0.426492           Entire_home_apt\n",
       "14  0.142525              Private_room\n",
       "0   0.065311              accommodates\n",
       "19  0.058289                        SF\n",
       "2   0.038216                  bedrooms\n",
       "25  0.030004           host_since_days\n",
       "6   0.025044                      beds\n",
       "5   0.023904      review_scores_rating\n",
       "4   0.019374         number_of_reviews\n",
       "29  0.016131                  Cable TV\n",
       "17  0.013829                   Chicago\n",
       "31  0.009802       Family/kid friendly\n",
       "9   0.009763                     House\n",
       "16  0.009104                        LA\n",
       "1   0.007966                 bathrooms\n",
       "27  0.007671          Air conditioning\n",
       "28  0.007429  Buzzer/wireless intercom\n",
       "15  0.007252                       NYC\n",
       "34  0.006502  Free parking on premises\n",
       "18  0.005064                    Boston"
      ]
     },
     "execution_count": 69,
     "metadata": {},
     "output_type": "execute_result"
    }
   ],
   "source": [
    "model3 = pd.DataFrame(model_rf3.stages[-1].featureImportances.toArray(), columns=[\"values\"])\n",
    "features_col = pd.Series(inputf)\n",
    "model3[\"features\"] = features_col\n",
    "model3.sort_values('values',ascending=False).iloc[:20]"
   ]
  },
  {
   "cell_type": "markdown",
   "metadata": {},
   "source": [
    "## 3. Gradient Boosting Regressor"
   ]
  },
  {
   "cell_type": "markdown",
   "metadata": {},
   "source": [
    "### Max Iteration: 100 "
   ]
  },
  {
   "cell_type": "code",
   "execution_count": 70,
   "metadata": {},
   "outputs": [
    {
     "name": "stdout",
     "output_type": "stream",
     "text": [
      "+-----------------+-----+--------------------+\n",
      "|       prediction|price|            features|\n",
      "+-----------------+-----+--------------------+\n",
      "|39.68036391828968| 35.0|(46,[0,2,4,5,6,14...|\n",
      "|53.43004841043061|125.0|(46,[0,2,4,5,6,9,...|\n",
      "|48.07539630120981| 29.0|(46,[0,2,3,4,5,6,...|\n",
      "|54.52853246938526| 35.0|(46,[0,2,3,4,5,6,...|\n",
      "|40.97411906901232| 60.0|(46,[0,2,3,4,5,6,...|\n",
      "+-----------------+-----+--------------------+\n",
      "only showing top 5 rows\n",
      "\n",
      "Root Mean Squared Error (RMSE) on test data = 26.6191\n"
     ]
    }
   ],
   "source": [
    "from pyspark.ml.regression import GBTRegressor\n",
    "\n",
    "# Train a GBT model.\n",
    "gbt1 = GBTRegressor(featuresCol=\"scaled_features\",labelCol='price', maxIter=100, seed=435)\n",
    "\n",
    "# Chain indexer and GBT in a Pipeline\n",
    "pipeline_gbr1 = Pipeline(stages=[va,ss,gbt1])\n",
    "\n",
    "# Train model.  This also runs the indexer.\n",
    "model_gbr1 = pipeline_gbr1.fit(train)\n",
    "\n",
    "# Make predictions.\n",
    "predictions_gbr1 = model_gbr1.transform(validation)\n",
    "\n",
    "# Select example rows to display.\n",
    "predictions_gbr1.select(\"prediction\", \"price\", \"features\").show(5)\n",
    "\n",
    "\n",
    "rmse = evaluator1.evaluate(predictions_gbr1)\n",
    "print(\"Root Mean Squared Error (RMSE) on test data = %g\" % rmse)\n"
   ]
  },
  {
   "cell_type": "markdown",
   "metadata": {},
   "source": [
    "### Max Iteration: 50"
   ]
  },
  {
   "cell_type": "code",
   "execution_count": 71,
   "metadata": {},
   "outputs": [
    {
     "name": "stdout",
     "output_type": "stream",
     "text": [
      "+------------------+-----+--------------------+\n",
      "|        prediction|price|            features|\n",
      "+------------------+-----+--------------------+\n",
      "|43.936685605408016| 35.0|(46,[0,2,4,5,6,14...|\n",
      "|  51.4491517728078|125.0|(46,[0,2,4,5,6,9,...|\n",
      "|40.572697351167655| 29.0|(46,[0,2,3,4,5,6,...|\n",
      "|53.051850994502686| 35.0|(46,[0,2,3,4,5,6,...|\n",
      "| 39.10282456310628| 60.0|(46,[0,2,3,4,5,6,...|\n",
      "+------------------+-----+--------------------+\n",
      "only showing top 5 rows\n",
      "\n",
      "Root Mean Squared Error (RMSE) on test data = 26.6189\n"
     ]
    }
   ],
   "source": [
    "from pyspark.ml.regression import GBTRegressor\n",
    "\n",
    "# Train a GBT model.\n",
    "gbt2 = GBTRegressor(featuresCol=\"scaled_features\",labelCol='price', maxIter=50,seed=435)\n",
    "\n",
    "# Chain indexer and GBT in a Pipeline\n",
    "pipeline_gbr2 = Pipeline(stages=[va,ss,gbt2])\n",
    "\n",
    "# Train model.  This also runs the indexer.\n",
    "model_gbr2 = pipeline_gbr2.fit(train)\n",
    "\n",
    "# Make predictions.\n",
    "predictions_gbr2 = model_gbr2.transform(validation)\n",
    "\n",
    "# Select example rows to display.\n",
    "predictions_gbr2.select(\"prediction\", \"price\", \"features\").show(5)\n",
    "\n",
    "\n",
    "rmse = evaluator1.evaluate(predictions_gbr2)\n",
    "print(\"Root Mean Squared Error (RMSE) on test data = %g\" % rmse)\n"
   ]
  },
  {
   "cell_type": "markdown",
   "metadata": {},
   "source": [
    "### Max Iteration: 30 "
   ]
  },
  {
   "cell_type": "code",
   "execution_count": 72,
   "metadata": {},
   "outputs": [
    {
     "name": "stdout",
     "output_type": "stream",
     "text": [
      "+------------------+-----+--------------------+\n",
      "|        prediction|price|            features|\n",
      "+------------------+-----+--------------------+\n",
      "| 51.31851294273469| 35.0|(46,[0,2,4,5,6,14...|\n",
      "| 46.00961791334153|125.0|(46,[0,2,4,5,6,9,...|\n",
      "|43.956191785349894| 29.0|(46,[0,2,3,4,5,6,...|\n",
      "|  55.5167772694494| 35.0|(46,[0,2,3,4,5,6,...|\n",
      "| 43.20513378993735| 60.0|(46,[0,2,3,4,5,6,...|\n",
      "+------------------+-----+--------------------+\n",
      "only showing top 5 rows\n",
      "\n",
      "Root Mean Squared Error (RMSE) on test data = 26.7267\n"
     ]
    }
   ],
   "source": [
    "from pyspark.ml.regression import GBTRegressor\n",
    "\n",
    "# Train a GBT model.\n",
    "gbt3 = GBTRegressor(featuresCol=\"scaled_features\",labelCol='price', maxIter=30,seed=435)\n",
    "\n",
    "# Chain indexer and GBT in a Pipeline\n",
    "pipeline_gbr3 = Pipeline(stages=[va,ss,gbt3])\n",
    "\n",
    "# Train model.  This also runs the indexer.\n",
    "model_gbr3 = pipeline_gbr3.fit(train)\n",
    "\n",
    "# Make predictions.\n",
    "predictions_gbr3 = model_gbr3.transform(validation)\n",
    "\n",
    "# Select example rows to display.\n",
    "predictions_gbr3.select(\"prediction\", \"price\", \"features\").show(5)\n",
    "\n",
    "\n",
    "rmse = evaluator1.evaluate(predictions_gbr3)\n",
    "print(\"Root Mean Squared Error (RMSE) on test data = %g\" % rmse)\n"
   ]
  },
  {
   "cell_type": "markdown",
   "metadata": {},
   "source": [
    "## Feature Importance from Gradient Boosting Regressor"
   ]
  },
  {
   "cell_type": "code",
   "execution_count": 73,
   "metadata": {},
   "outputs": [
    {
     "data": {
      "text/html": [
       "<div>\n",
       "<style scoped>\n",
       "    .dataframe tbody tr th:only-of-type {\n",
       "        vertical-align: middle;\n",
       "    }\n",
       "\n",
       "    .dataframe tbody tr th {\n",
       "        vertical-align: top;\n",
       "    }\n",
       "\n",
       "    .dataframe thead th {\n",
       "        text-align: right;\n",
       "    }\n",
       "</style>\n",
       "<table border=\"1\" class=\"dataframe\">\n",
       "  <thead>\n",
       "    <tr style=\"text-align: right;\">\n",
       "      <th></th>\n",
       "      <th>values</th>\n",
       "      <th>features</th>\n",
       "    </tr>\n",
       "  </thead>\n",
       "  <tbody>\n",
       "    <tr>\n",
       "      <th>25</th>\n",
       "      <td>0.132112</td>\n",
       "      <td>host_since_days</td>\n",
       "    </tr>\n",
       "    <tr>\n",
       "      <th>4</th>\n",
       "      <td>0.090758</td>\n",
       "      <td>number_of_reviews</td>\n",
       "    </tr>\n",
       "    <tr>\n",
       "      <th>5</th>\n",
       "      <td>0.070511</td>\n",
       "      <td>review_scores_rating</td>\n",
       "    </tr>\n",
       "    <tr>\n",
       "      <th>0</th>\n",
       "      <td>0.069090</td>\n",
       "      <td>accommodates</td>\n",
       "    </tr>\n",
       "    <tr>\n",
       "      <th>13</th>\n",
       "      <td>0.048176</td>\n",
       "      <td>Entire_home_apt</td>\n",
       "    </tr>\n",
       "    <tr>\n",
       "      <th>2</th>\n",
       "      <td>0.041181</td>\n",
       "      <td>bedrooms</td>\n",
       "    </tr>\n",
       "    <tr>\n",
       "      <th>1</th>\n",
       "      <td>0.032152</td>\n",
       "      <td>bathrooms</td>\n",
       "    </tr>\n",
       "    <tr>\n",
       "      <th>16</th>\n",
       "      <td>0.024558</td>\n",
       "      <td>LA</td>\n",
       "    </tr>\n",
       "    <tr>\n",
       "      <th>27</th>\n",
       "      <td>0.024408</td>\n",
       "      <td>Air conditioning</td>\n",
       "    </tr>\n",
       "    <tr>\n",
       "      <th>6</th>\n",
       "      <td>0.022673</td>\n",
       "      <td>beds</td>\n",
       "    </tr>\n",
       "    <tr>\n",
       "      <th>43</th>\n",
       "      <td>0.021147</td>\n",
       "      <td>Self Check-In</td>\n",
       "    </tr>\n",
       "    <tr>\n",
       "      <th>34</th>\n",
       "      <td>0.020933</td>\n",
       "      <td>Free parking on premises</td>\n",
       "    </tr>\n",
       "    <tr>\n",
       "      <th>19</th>\n",
       "      <td>0.019256</td>\n",
       "      <td>SF</td>\n",
       "    </tr>\n",
       "    <tr>\n",
       "      <th>15</th>\n",
       "      <td>0.019167</td>\n",
       "      <td>NYC</td>\n",
       "    </tr>\n",
       "    <tr>\n",
       "      <th>28</th>\n",
       "      <td>0.018704</td>\n",
       "      <td>Buzzer/wireless intercom</td>\n",
       "    </tr>\n",
       "    <tr>\n",
       "      <th>17</th>\n",
       "      <td>0.018345</td>\n",
       "      <td>Chicago</td>\n",
       "    </tr>\n",
       "    <tr>\n",
       "      <th>41</th>\n",
       "      <td>0.017991</td>\n",
       "      <td>Private entrance</td>\n",
       "    </tr>\n",
       "    <tr>\n",
       "      <th>14</th>\n",
       "      <td>0.017384</td>\n",
       "      <td>Private_room</td>\n",
       "    </tr>\n",
       "    <tr>\n",
       "      <th>44</th>\n",
       "      <td>0.016408</td>\n",
       "      <td>Smoke detector</td>\n",
       "    </tr>\n",
       "    <tr>\n",
       "      <th>36</th>\n",
       "      <td>0.015398</td>\n",
       "      <td>Indoor fireplace</td>\n",
       "    </tr>\n",
       "  </tbody>\n",
       "</table>\n",
       "</div>"
      ],
      "text/plain": [
       "      values                  features\n",
       "25  0.132112           host_since_days\n",
       "4   0.090758         number_of_reviews\n",
       "5   0.070511      review_scores_rating\n",
       "0   0.069090              accommodates\n",
       "13  0.048176           Entire_home_apt\n",
       "2   0.041181                  bedrooms\n",
       "1   0.032152                 bathrooms\n",
       "16  0.024558                        LA\n",
       "27  0.024408          Air conditioning\n",
       "6   0.022673                      beds\n",
       "43  0.021147             Self Check-In\n",
       "34  0.020933  Free parking on premises\n",
       "19  0.019256                        SF\n",
       "15  0.019167                       NYC\n",
       "28  0.018704  Buzzer/wireless intercom\n",
       "17  0.018345                   Chicago\n",
       "41  0.017991          Private entrance\n",
       "14  0.017384              Private_room\n",
       "44  0.016408            Smoke detector\n",
       "36  0.015398          Indoor fireplace"
      ]
     },
     "execution_count": 73,
     "metadata": {},
     "output_type": "execute_result"
    }
   ],
   "source": [
    "model2 = pd.DataFrame(model_gbr2.stages[-1].featureImportances.toArray(), columns=[\"values\"])\n",
    "features_col = pd.Series(inputf)\n",
    "model2[\"features\"] = features_col\n",
    "model2.sort_values('values',ascending=False).iloc[:20]"
   ]
  },
  {
   "cell_type": "markdown",
   "metadata": {},
   "source": [
    "## Conclusion"
   ]
  },
  {
   "cell_type": "markdown",
   "metadata": {},
   "source": [
    "From the feature importance obtained from both the models(Random Forest and Gradient Boosting), it can be found that majority of features are common. \n",
    "\n",
    "From the feature importance obtained from both the models(Random Forest and Gradient Boosting), it can be found that majority of features are common.\n",
    "\n",
    "From the best model we can infer:\n",
    " 1. The number of days the host has been a host affects the price of the vacation rental\n",
    " 2. The number of people the property accommodates affects the price of the rental\n",
    " 3. The number of reviews affects the price.\n",
    " 4. The average rating of the listing affects the price.\n",
    " 5. If the entire house is available for rent, prices tend to be higher\n",
    " 6. The number of bedrooms affect the price. More bedrooms, more price can be charged.\n",
    " 7. Amenities like cable TV, airconditioning, wireless intercom, fireplace, private entrance affect price.\n",
    " 8. The city of the listing affects the price. (Eg: San Francisco's listings are generally more expensive than DC, Chicago)"
   ]
  }
 ],
 "metadata": {
  "kernelspec": {
   "display_name": "Python 3",
   "language": "python",
   "name": "python3"
  },
  "language_info": {
   "codemirror_mode": {
    "name": "ipython",
    "version": 3
   },
   "file_extension": ".py",
   "mimetype": "text/x-python",
   "name": "python",
   "nbconvert_exporter": "python",
   "pygments_lexer": "ipython3",
   "version": "3.6.8"
  }
 },
 "nbformat": 4,
 "nbformat_minor": 2
}
